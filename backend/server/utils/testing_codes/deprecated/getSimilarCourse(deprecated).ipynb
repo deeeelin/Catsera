{
 "cells": [
  {
   "cell_type": "markdown",
   "metadata": {},
   "source": [
    "## These are test programs"
   ]
  },
  {
   "cell_type": "code",
   "execution_count": null,
   "metadata": {},
   "outputs": [],
   "source": [
    "import pandas as pd\n",
    "import requests\n",
    "import json\n",
    "\n",
    "from utils.embeddings_utils import (\n",
    "    get_embedding,\n",
    "    distances_from_embeddings,\n",
    "    tsne_components_from_embeddings,\n",
    "    chart_from_components,\n",
    "    indices_of_nearest_neighbors_from_distances,\n",
    ")\n",
    "\n",
    "# constants\n",
    "EMBEDDING_MODEL = \"text-embedding-ada-002\"\n",
    "\n",
    "embedding_input = \"I want to learn how to use python to do data analysis\"\n",
    "\n",
    "# set url, headers\n",
    "url = 'http://localhost:3080/dbtest/getSimilarCourseFromText'  \n",
    "\n",
    "headers = {\n",
    "    'Content-Type': 'application/json'\n",
    "}\n",
    "\n",
    "# set what you want to get from response\n",
    "fields = ['courseName', 'courseUrl']\n",
    "# fields = []\n",
    "\n",
    "data = {\n",
    "    'text': '[fuck]',\n",
    "    'limit': 300 ,\n",
    "    'fields':fields\n",
    "}\n",
    "# send post\n",
    "response = requests.post(url, data=json.dumps(data), headers=headers)\n",
    "\n",
    "if response.status_code == 200:\n",
    "    print(\"Success:\", json.dumps(response.json(), indent=4, ensure_ascii=False))\n",
    "else:\n",
    "    print(\"Error:\", response.status_code, response.text)"
   ]
  },
  {
   "cell_type": "markdown",
   "metadata": {},
   "source": [
    "### Get Similar Course From Text"
   ]
  },
  {
   "cell_type": "code",
   "execution_count": null,
   "metadata": {},
   "outputs": [],
   "source": [
    "import requests\n",
    "import json\n",
    "\n",
    "url = 'http://localhost:3080/dbtest/getSimilarCourseFromText' \n",
    "\n",
    "fields = ['courseName', 'courseUrl']\n",
    "\n",
    "data = {\n",
    "    'text': 'I want to learn how to use python to do data analysis',\n",
    "    'fields': fields ,\n",
    "    'limit': 1\n",
    "}\n",
    "\n",
    "response = requests.post(url, json=data)\n",
    "\n",
    "if response.status_code == 200:\n",
    "    print(\"Success:\", json.dumps(response.json(), indent=4, ensure_ascii=False))\n",
    "else:\n",
    "    print(\"Error:\", response.status_code, response.text)"
   ]
  }
 ],
 "metadata": {
  "kernelspec": {
   "display_name": "Python 3",
   "language": "python",
   "name": "python3"
  },
  "language_info": {
   "codemirror_mode": {
    "name": "ipython",
    "version": 3
   },
   "file_extension": ".py",
   "mimetype": "text/x-python",
   "name": "python",
   "nbconvert_exporter": "python",
   "pygments_lexer": "ipython3",
   "version": "3.11.6"
  }
 },
 "nbformat": 4,
 "nbformat_minor": 2
}
